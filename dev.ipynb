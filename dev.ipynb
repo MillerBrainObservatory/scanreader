{
 "cells": [
  {
   "cell_type": "code",
   "execution_count": 2,
   "id": "efafeb7d8e58bbff",
   "metadata": {
    "ExecuteTime": {
     "end_time": "2024-05-05T19:08:36.195917Z",
     "start_time": "2024-05-05T19:08:35.901678Z"
    },
    "collapsed": true
   },
   "source": [
    "import numpy as np\n",
    "from pathlib import Path\n",
    "import cv2\n",
    "import scanreader\n",
    "\n",
    "import bokeh.plotting as bpl\n",
    "import holoviews as hv\n",
    "import logging\n",
    "import matplotlib.pyplot as plt\n",
    "\n",
    "try:\n",
    "    cv2.setNumThreads(0)\n",
    "except():\n",
    "    pass\n",
    "\n",
    "bpl.output_notebook()\n",
    "hv.notebook_extension('bokeh')\n",
    "from pathlib import Path\n",
    "import scanreader as sr\n",
    "file = [x for x in Path('/data2/fpo/data/').glob(\"*.tif*\")][0]\n",
    "\n",
    "scan = sr.read_scan(str(file), join_contiguous=True, lbm=True)\n",
    "data = scan[0]"
   ],
   "outputs": []
  },
  {
   "cell_type": "code",
   "execution_count": 3,
   "id": "b05e643c",
   "metadata": {},
   "source": [
    "len(scan)"
   ],
   "outputs": []
  },
  {
   "cell_type": "code",
   "execution_count": 4,
   "id": "511bdd4c5d11d97f",
   "metadata": {},
   "source": [
    "plot_width = scan.field_widths[0]\n",
    "plot_height = scan.field_heights[0] \n",
    "\n",
    "image1 = hv.Image(data[:,:,5,400]).opts(\n",
    "    width=400,\n",
    "    height=400,\n",
    "    title=\"Original Image\",\n",
    "    tools=['pan', 'wheel_zoom'],\n",
    "    cmap='gray',\n",
    ")\n",
    "\n",
    "layout = image1 \n",
    "bpl.show(hv.render(layout))"
   ],
   "outputs": []
  },
  {
   "cell_type": "code",
   "execution_count": null,
   "id": "d590be93",
   "metadata": {},
   "source": [],
   "outputs": []
  }
 ],
 "metadata": {
  "kernelspec": {
   "display_name": "Python 3 (ipykernel)",
   "language": "python",
   "name": "python3"
  },
  "language_info": {
   "codemirror_mode": {
    "name": "ipython",
    "version": 3
   },
   "file_extension": ".py",
   "mimetype": "text/x-python",
   "name": "python",
   "nbconvert_exporter": "python",
   "pygments_lexer": "ipython3",
   "version": "3.11.9"
  }
 },
 "nbformat": 4,
 "nbformat_minor": 5
}
