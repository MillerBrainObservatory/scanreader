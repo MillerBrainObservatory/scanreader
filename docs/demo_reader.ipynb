{
 "cells": [
  {
   "cell_type": "markdown",
   "id": "bcd70aeb43a383b0",
   "metadata": {},
   "source": [
    "# Demo: scanreader\n",
    "\n",
    "Examples of scanreader usage from a [jupyter notebook](https://jupyter.org/) and from the commmand line.\n",
    "\n",
    "## Libraries:\n",
    "\n",
    "- [napari](https://napari.org/stable/) for displaying images\n",
    "- [zarr](https://zarr.readthedocs.io/en/stable/) and [dask](https://www.dask.org/) for lazy-loading operations"
   ]
  },
  {
   "cell_type": "code",
   "execution_count": 1,
   "id": "369d671ee4cb5701",
   "metadata": {
    "ExecuteTime": {
     "end_time": "2024-07-24T20:15:23.056920Z",
     "start_time": "2024-07-24T20:15:22.468380Z"
    }
   },
   "outputs": [],
   "source": [
    "### Imports\n",
    "\n",
    "from pathlib import Path\n",
    "import dask\n",
    "import zarr\n",
    "import matplotlib.pyplot as plt\n",
    "import sys\n",
    "\n",
    "sys.path.insert(0, \"../scanreader\")\n",
    "\n",
    "from scanreader import read_scan\n",
    "\n",
    "%load_ext autoreload\n",
    "%autoreload 2"
   ]
  },
  {
   "cell_type": "markdown",
   "id": "2f02216ad35fb1b2",
   "metadata": {},
   "source": [
    "## Data path setup"
   ]
  },
  {
   "cell_type": "code",
   "execution_count": 2,
   "id": "4471f1fdb9246ffd",
   "metadata": {
    "ExecuteTime": {
     "end_time": "2024-07-24T20:14:08.031851Z",
     "start_time": "2024-07-24T20:14:06.623705Z"
    }
   },
   "outputs": [
    {
     "data": {
      "text/plain": [
       "True"
      ]
     },
     "execution_count": 2,
     "metadata": {},
     "output_type": "execute_result"
    }
   ],
   "source": [
    "datapath = Path().home() / 'caiman_data' / 'high_res'\n",
    "datapath.is_dir()"
   ]
  },
  {
   "cell_type": "code",
   "execution_count": 3,
   "id": "295a4a87",
   "metadata": {},
   "outputs": [
    {
     "data": {
      "text/html": [
       "<table>\n",
       "    <tr>\n",
       "        <td>\n",
       "            <table style=\"border-collapse: collapse;\">\n",
       "                <thead>\n",
       "                    <tr>\n",
       "                        <td> </td>\n",
       "                        <th> Array </th>\n",
       "                        <th> Chunk </th>\n",
       "                    </tr>\n",
       "                </thead>\n",
       "                <tbody>\n",
       "                    \n",
       "                    <tr>\n",
       "                        <th> Bytes </th>\n",
       "                        <td> 33.41 GiB </td>\n",
       "                        <td> 8.35 GiB </td>\n",
       "                    </tr>\n",
       "                    \n",
       "                    <tr>\n",
       "                        <th> Shape </th>\n",
       "                        <td> (1730, 30, 600, 576) </td>\n",
       "                        <td> (1730, 30, 600, 144) </td>\n",
       "                    </tr>\n",
       "                    <tr>\n",
       "                        <th> Dask graph </th>\n",
       "                        <td colspan=\"2\"> 4 chunks in 7 graph layers </td>\n",
       "                    </tr>\n",
       "                    <tr>\n",
       "                        <th> Data type </th>\n",
       "                        <td colspan=\"2\"> int16 numpy.ndarray </td>\n",
       "                    </tr>\n",
       "                </tbody>\n",
       "            </table>\n",
       "        </td>\n",
       "        <td>\n",
       "        <svg width=\"490\" height=\"110\" style=\"stroke:rgb(0,0,0);stroke-width:1\" >\n",
       "\n",
       "  <!-- Horizontal lines -->\n",
       "  <line x1=\"0\" y1=\"0\" x2=\"120\" y2=\"0\" style=\"stroke-width:2\" />\n",
       "  <line x1=\"0\" y1=\"25\" x2=\"120\" y2=\"25\" style=\"stroke-width:2\" />\n",
       "\n",
       "  <!-- Vertical lines -->\n",
       "  <line x1=\"0\" y1=\"0\" x2=\"0\" y2=\"25\" style=\"stroke-width:2\" />\n",
       "  <line x1=\"120\" y1=\"0\" x2=\"120\" y2=\"25\" style=\"stroke-width:2\" />\n",
       "\n",
       "  <!-- Colored Rectangle -->\n",
       "  <polygon points=\"0.0,0.0 120.0,0.0 120.0,25.412616514582485 0.0,25.412616514582485\" style=\"fill:#ECB172A0;stroke-width:0\"/>\n",
       "\n",
       "  <!-- Text -->\n",
       "  <text x=\"60.000000\" y=\"45.412617\" font-size=\"1.0rem\" font-weight=\"100\" text-anchor=\"middle\" >1730</text>\n",
       "  <text x=\"140.000000\" y=\"12.706308\" font-size=\"1.0rem\" font-weight=\"100\" text-anchor=\"middle\" transform=\"rotate(0,140.000000,12.706308)\">1</text>\n",
       "\n",
       "\n",
       "  <!-- Horizontal lines -->\n",
       "  <line x1=\"190\" y1=\"0\" x2=\"206\" y2=\"16\" style=\"stroke-width:2\" />\n",
       "  <line x1=\"190\" y1=\"44\" x2=\"206\" y2=\"60\" style=\"stroke-width:2\" />\n",
       "\n",
       "  <!-- Vertical lines -->\n",
       "  <line x1=\"190\" y1=\"0\" x2=\"190\" y2=\"44\" style=\"stroke-width:2\" />\n",
       "  <line x1=\"206\" y1=\"16\" x2=\"206\" y2=\"60\" style=\"stroke-width:2\" />\n",
       "\n",
       "  <!-- Colored Rectangle -->\n",
       "  <polygon points=\"190.0,0.0 206.61115728092685,16.611157280926843 206.61115728092685,60.619383870193346 190.0,44.0082265892665\" style=\"fill:#ECB172A0;stroke-width:0\"/>\n",
       "\n",
       "  <!-- Horizontal lines -->\n",
       "  <line x1=\"190\" y1=\"0\" x2=\"233\" y2=\"0\" style=\"stroke-width:2\" />\n",
       "  <line x1=\"206\" y1=\"16\" x2=\"250\" y2=\"16\" style=\"stroke-width:2\" />\n",
       "\n",
       "  <!-- Vertical lines -->\n",
       "  <line x1=\"190\" y1=\"0\" x2=\"206\" y2=\"16\" style=\"stroke-width:2\" />\n",
       "  <line x1=\"200\" y1=\"0\" x2=\"217\" y2=\"16\" />\n",
       "  <line x1=\"211\" y1=\"0\" x2=\"228\" y2=\"16\" />\n",
       "  <line x1=\"222\" y1=\"0\" x2=\"239\" y2=\"16\" />\n",
       "  <line x1=\"233\" y1=\"0\" x2=\"250\" y2=\"16\" style=\"stroke-width:2\" />\n",
       "\n",
       "  <!-- Colored Rectangle -->\n",
       "  <polygon points=\"190.0,0.0 233.8822164992411,0.0 250.49337378016796,16.611157280926843 206.61115728092685,16.611157280926843\" style=\"fill:#ECB172A0;stroke-width:0\"/>\n",
       "\n",
       "  <!-- Horizontal lines -->\n",
       "  <line x1=\"206\" y1=\"16\" x2=\"250\" y2=\"16\" style=\"stroke-width:2\" />\n",
       "  <line x1=\"206\" y1=\"60\" x2=\"250\" y2=\"60\" style=\"stroke-width:2\" />\n",
       "\n",
       "  <!-- Vertical lines -->\n",
       "  <line x1=\"206\" y1=\"16\" x2=\"206\" y2=\"60\" style=\"stroke-width:2\" />\n",
       "  <line x1=\"217\" y1=\"16\" x2=\"217\" y2=\"60\" />\n",
       "  <line x1=\"228\" y1=\"16\" x2=\"228\" y2=\"60\" />\n",
       "  <line x1=\"239\" y1=\"16\" x2=\"239\" y2=\"60\" />\n",
       "  <line x1=\"250\" y1=\"16\" x2=\"250\" y2=\"60\" style=\"stroke-width:2\" />\n",
       "\n",
       "  <!-- Colored Rectangle -->\n",
       "  <polygon points=\"206.61115728092685,16.611157280926843 250.49337378016796,16.611157280926843 250.49337378016796,60.619383870193346 206.61115728092685,60.619383870193346\" style=\"fill:#ECB172A0;stroke-width:0\"/>\n",
       "\n",
       "  <!-- Text -->\n",
       "  <text x=\"228.552266\" y=\"80.619384\" font-size=\"1.0rem\" font-weight=\"100\" text-anchor=\"middle\" >576</text>\n",
       "  <text x=\"270.493374\" y=\"38.615271\" font-size=\"1.0rem\" font-weight=\"100\" text-anchor=\"middle\" transform=\"rotate(-90,270.493374,38.615271)\">600</text>\n",
       "  <text x=\"188.305579\" y=\"72.313805\" font-size=\"1.0rem\" font-weight=\"100\" text-anchor=\"middle\" transform=\"rotate(45,188.305579,72.313805)\">30</text>\n",
       "</svg>\n",
       "        </td>\n",
       "    </tr>\n",
       "</table>"
      ],
      "text/plain": [
       "dask.array<concatenate, shape=(1730, 30, 600, 576), dtype=int16, chunksize=(1730, 30, 600, 144), chunktype=numpy.ndarray>"
      ]
     },
     "execution_count": 3,
     "metadata": {},
     "output_type": "execute_result"
    }
   ],
   "source": [
    "data = read_scan(datapath)\n",
    "data[:]"
   ]
  },
  {
   "cell_type": "code",
   "execution_count": 4,
   "id": "3bae7296",
   "metadata": {},
   "outputs": [
    {
     "data": {
      "text/html": [
       "<table>\n",
       "    <tr>\n",
       "        <td>\n",
       "            <table style=\"border-collapse: collapse;\">\n",
       "                <thead>\n",
       "                    <tr>\n",
       "                        <td> </td>\n",
       "                        <th> Array </th>\n",
       "                        <th> Chunk </th>\n",
       "                    </tr>\n",
       "                </thead>\n",
       "                <tbody>\n",
       "                    \n",
       "                    <tr>\n",
       "                        <th> Bytes </th>\n",
       "                        <td> 1.11 GiB </td>\n",
       "                        <td> 285.10 MiB </td>\n",
       "                    </tr>\n",
       "                    \n",
       "                    <tr>\n",
       "                        <th> Shape </th>\n",
       "                        <td> (1730, 600, 576) </td>\n",
       "                        <td> (1730, 600, 144) </td>\n",
       "                    </tr>\n",
       "                    <tr>\n",
       "                        <th> Dask graph </th>\n",
       "                        <td colspan=\"2\"> 4 chunks in 8 graph layers </td>\n",
       "                    </tr>\n",
       "                    <tr>\n",
       "                        <th> Data type </th>\n",
       "                        <td colspan=\"2\"> int16 numpy.ndarray </td>\n",
       "                    </tr>\n",
       "                </tbody>\n",
       "            </table>\n",
       "        </td>\n",
       "        <td>\n",
       "        <svg width=\"174\" height=\"164\" style=\"stroke:rgb(0,0,0);stroke-width:1\" >\n",
       "\n",
       "  <!-- Horizontal lines -->\n",
       "  <line x1=\"10\" y1=\"0\" x2=\"80\" y2=\"70\" style=\"stroke-width:2\" />\n",
       "  <line x1=\"10\" y1=\"44\" x2=\"80\" y2=\"114\" style=\"stroke-width:2\" />\n",
       "\n",
       "  <!-- Vertical lines -->\n",
       "  <line x1=\"10\" y1=\"0\" x2=\"10\" y2=\"44\" style=\"stroke-width:2\" />\n",
       "  <line x1=\"80\" y1=\"70\" x2=\"80\" y2=\"114\" style=\"stroke-width:2\" />\n",
       "\n",
       "  <!-- Colored Rectangle -->\n",
       "  <polygon points=\"10.0,0.0 80.58823529411765,70.58823529411765 80.58823529411765,114.59646188338415 10.0,44.0082265892665\" style=\"fill:#ECB172A0;stroke-width:0\"/>\n",
       "\n",
       "  <!-- Horizontal lines -->\n",
       "  <line x1=\"10\" y1=\"0\" x2=\"53\" y2=\"0\" style=\"stroke-width:2\" />\n",
       "  <line x1=\"80\" y1=\"70\" x2=\"124\" y2=\"70\" style=\"stroke-width:2\" />\n",
       "\n",
       "  <!-- Vertical lines -->\n",
       "  <line x1=\"10\" y1=\"0\" x2=\"80\" y2=\"70\" style=\"stroke-width:2\" />\n",
       "  <line x1=\"20\" y1=\"0\" x2=\"91\" y2=\"70\" />\n",
       "  <line x1=\"31\" y1=\"0\" x2=\"102\" y2=\"70\" />\n",
       "  <line x1=\"42\" y1=\"0\" x2=\"113\" y2=\"70\" />\n",
       "  <line x1=\"53\" y1=\"0\" x2=\"124\" y2=\"70\" style=\"stroke-width:2\" />\n",
       "\n",
       "  <!-- Colored Rectangle -->\n",
       "  <polygon points=\"10.0,0.0 53.8822164992411,0.0 124.47045179335876,70.58823529411765 80.58823529411765,70.58823529411765\" style=\"fill:#ECB172A0;stroke-width:0\"/>\n",
       "\n",
       "  <!-- Horizontal lines -->\n",
       "  <line x1=\"80\" y1=\"70\" x2=\"124\" y2=\"70\" style=\"stroke-width:2\" />\n",
       "  <line x1=\"80\" y1=\"114\" x2=\"124\" y2=\"114\" style=\"stroke-width:2\" />\n",
       "\n",
       "  <!-- Vertical lines -->\n",
       "  <line x1=\"80\" y1=\"70\" x2=\"80\" y2=\"114\" style=\"stroke-width:2\" />\n",
       "  <line x1=\"91\" y1=\"70\" x2=\"91\" y2=\"114\" />\n",
       "  <line x1=\"102\" y1=\"70\" x2=\"102\" y2=\"114\" />\n",
       "  <line x1=\"113\" y1=\"70\" x2=\"113\" y2=\"114\" />\n",
       "  <line x1=\"124\" y1=\"70\" x2=\"124\" y2=\"114\" style=\"stroke-width:2\" />\n",
       "\n",
       "  <!-- Colored Rectangle -->\n",
       "  <polygon points=\"80.58823529411765,70.58823529411765 124.47045179335876,70.58823529411765 124.47045179335876,114.59646188338415 80.58823529411765,114.59646188338415\" style=\"fill:#ECB172A0;stroke-width:0\"/>\n",
       "\n",
       "  <!-- Text -->\n",
       "  <text x=\"102.529344\" y=\"134.596462\" font-size=\"1.0rem\" font-weight=\"100\" text-anchor=\"middle\" >576</text>\n",
       "  <text x=\"144.470452\" y=\"92.592349\" font-size=\"1.0rem\" font-weight=\"100\" text-anchor=\"middle\" transform=\"rotate(-90,144.470452,92.592349)\">600</text>\n",
       "  <text x=\"35.294118\" y=\"99.302344\" font-size=\"1.0rem\" font-weight=\"100\" text-anchor=\"middle\" transform=\"rotate(45,35.294118,99.302344)\">1730</text>\n",
       "</svg>\n",
       "        </td>\n",
       "    </tr>\n",
       "</table>"
      ],
      "text/plain": [
       "dask.array<getitem, shape=(1730, 600, 576), dtype=int16, chunksize=(1730, 600, 144), chunktype=numpy.ndarray>"
      ]
     },
     "execution_count": 4,
     "metadata": {},
     "output_type": "execute_result"
    }
   ],
   "source": [
    "z_plane_1 = data[:,0,:,:]\n",
    "z_plane_1"
   ]
  },
  {
   "cell_type": "code",
   "execution_count": 6,
   "id": "62875632",
   "metadata": {},
   "outputs": [
    {
     "ename": "RuntimeError",
     "evalue": "No visualization engine detected, please install graphviz or ipycytoscape",
     "output_type": "error",
     "traceback": [
      "\u001b[0;31m---------------------------------------------------------------------------\u001b[0m",
      "\u001b[0;31mRuntimeError\u001b[0m                              Traceback (most recent call last)",
      "Cell \u001b[0;32mIn[6], line 2\u001b[0m\n\u001b[1;32m      1\u001b[0m lazy_compute \u001b[38;5;241m=\u001b[39m z_plane_1\u001b[38;5;241m.\u001b[39mmean(axis\u001b[38;5;241m=\u001b[39m\u001b[38;5;241m0\u001b[39m)\n\u001b[0;32m----> 2\u001b[0m \u001b[43mlazy_compute\u001b[49m\u001b[38;5;241;43m.\u001b[39;49m\u001b[43mvisualize\u001b[49m\u001b[43m(\u001b[49m\u001b[43m)\u001b[49m\n",
      "File \u001b[0;32m~/miniconda3/envs/mescore/lib/python3.11/site-packages/dask/base.py:302\u001b[0m, in \u001b[0;36mDaskMethodsMixin.visualize\u001b[0;34m(self, filename, format, optimize_graph, **kwargs)\u001b[0m\n\u001b[1;32m    258\u001b[0m \u001b[38;5;28;01mdef\u001b[39;00m \u001b[38;5;21mvisualize\u001b[39m(\u001b[38;5;28mself\u001b[39m, filename\u001b[38;5;241m=\u001b[39m\u001b[38;5;124m\"\u001b[39m\u001b[38;5;124mmydask\u001b[39m\u001b[38;5;124m\"\u001b[39m, \u001b[38;5;28mformat\u001b[39m\u001b[38;5;241m=\u001b[39m\u001b[38;5;28;01mNone\u001b[39;00m, optimize_graph\u001b[38;5;241m=\u001b[39m\u001b[38;5;28;01mFalse\u001b[39;00m, \u001b[38;5;241m*\u001b[39m\u001b[38;5;241m*\u001b[39mkwargs):\n\u001b[1;32m    259\u001b[0m \u001b[38;5;250m    \u001b[39m\u001b[38;5;124;03m\"\"\"Render the computation of this object's task graph using graphviz.\u001b[39;00m\n\u001b[1;32m    260\u001b[0m \n\u001b[1;32m    261\u001b[0m \u001b[38;5;124;03m    Requires ``graphviz`` to be installed.\u001b[39;00m\n\u001b[0;32m   (...)\u001b[0m\n\u001b[1;32m    300\u001b[0m \u001b[38;5;124;03m    https://docs.dask.org/en/latest/optimize.html\u001b[39;00m\n\u001b[1;32m    301\u001b[0m \u001b[38;5;124;03m    \"\"\"\u001b[39;00m\n\u001b[0;32m--> 302\u001b[0m     \u001b[38;5;28;01mreturn\u001b[39;00m \u001b[43mvisualize\u001b[49m\u001b[43m(\u001b[49m\n\u001b[1;32m    303\u001b[0m \u001b[43m        \u001b[49m\u001b[38;5;28;43mself\u001b[39;49m\u001b[43m,\u001b[49m\n\u001b[1;32m    304\u001b[0m \u001b[43m        \u001b[49m\u001b[43mfilename\u001b[49m\u001b[38;5;241;43m=\u001b[39;49m\u001b[43mfilename\u001b[49m\u001b[43m,\u001b[49m\n\u001b[1;32m    305\u001b[0m \u001b[43m        \u001b[49m\u001b[38;5;28;43mformat\u001b[39;49m\u001b[38;5;241;43m=\u001b[39;49m\u001b[38;5;28;43mformat\u001b[39;49m\u001b[43m,\u001b[49m\n\u001b[1;32m    306\u001b[0m \u001b[43m        \u001b[49m\u001b[43moptimize_graph\u001b[49m\u001b[38;5;241;43m=\u001b[39;49m\u001b[43moptimize_graph\u001b[49m\u001b[43m,\u001b[49m\n\u001b[1;32m    307\u001b[0m \u001b[43m        \u001b[49m\u001b[38;5;241;43m*\u001b[39;49m\u001b[38;5;241;43m*\u001b[39;49m\u001b[43mkwargs\u001b[49m\u001b[43m,\u001b[49m\n\u001b[1;32m    308\u001b[0m \u001b[43m    \u001b[49m\u001b[43m)\u001b[49m\n",
      "File \u001b[0;32m~/miniconda3/envs/mescore/lib/python3.11/site-packages/dask/base.py:759\u001b[0m, in \u001b[0;36mvisualize\u001b[0;34m(filename, traverse, optimize_graph, maxval, engine, *args, **kwargs)\u001b[0m\n\u001b[1;32m    755\u001b[0m args, _ \u001b[38;5;241m=\u001b[39m unpack_collections(\u001b[38;5;241m*\u001b[39margs, traverse\u001b[38;5;241m=\u001b[39mtraverse)\n\u001b[1;32m    757\u001b[0m dsk \u001b[38;5;241m=\u001b[39m \u001b[38;5;28mdict\u001b[39m(collections_to_dsk(args, optimize_graph\u001b[38;5;241m=\u001b[39moptimize_graph))\n\u001b[0;32m--> 759\u001b[0m \u001b[38;5;28;01mreturn\u001b[39;00m \u001b[43mvisualize_dsk\u001b[49m\u001b[43m(\u001b[49m\n\u001b[1;32m    760\u001b[0m \u001b[43m    \u001b[49m\u001b[43mdsk\u001b[49m\u001b[38;5;241;43m=\u001b[39;49m\u001b[43mdsk\u001b[49m\u001b[43m,\u001b[49m\n\u001b[1;32m    761\u001b[0m \u001b[43m    \u001b[49m\u001b[43mfilename\u001b[49m\u001b[38;5;241;43m=\u001b[39;49m\u001b[43mfilename\u001b[49m\u001b[43m,\u001b[49m\n\u001b[1;32m    762\u001b[0m \u001b[43m    \u001b[49m\u001b[43mtraverse\u001b[49m\u001b[38;5;241;43m=\u001b[39;49m\u001b[43mtraverse\u001b[49m\u001b[43m,\u001b[49m\n\u001b[1;32m    763\u001b[0m \u001b[43m    \u001b[49m\u001b[43moptimize_graph\u001b[49m\u001b[38;5;241;43m=\u001b[39;49m\u001b[43moptimize_graph\u001b[49m\u001b[43m,\u001b[49m\n\u001b[1;32m    764\u001b[0m \u001b[43m    \u001b[49m\u001b[43mmaxval\u001b[49m\u001b[38;5;241;43m=\u001b[39;49m\u001b[43mmaxval\u001b[49m\u001b[43m,\u001b[49m\n\u001b[1;32m    765\u001b[0m \u001b[43m    \u001b[49m\u001b[43mengine\u001b[49m\u001b[38;5;241;43m=\u001b[39;49m\u001b[43mengine\u001b[49m\u001b[43m,\u001b[49m\n\u001b[1;32m    766\u001b[0m \u001b[43m    \u001b[49m\u001b[38;5;241;43m*\u001b[39;49m\u001b[38;5;241;43m*\u001b[39;49m\u001b[43mkwargs\u001b[49m\u001b[43m,\u001b[49m\n\u001b[1;32m    767\u001b[0m \u001b[43m\u001b[49m\u001b[43m)\u001b[49m\n",
      "File \u001b[0;32m~/miniconda3/envs/mescore/lib/python3.11/site-packages/dask/base.py:900\u001b[0m, in \u001b[0;36mvisualize_dsk\u001b[0;34m(dsk, filename, traverse, optimize_graph, maxval, o, engine, limit, **kwargs)\u001b[0m\n\u001b[1;32m    898\u001b[0m     \u001b[38;5;28;01mreturn\u001b[39;00m cytoscape_graph(dsk, filename\u001b[38;5;241m=\u001b[39mfilename, \u001b[38;5;241m*\u001b[39m\u001b[38;5;241m*\u001b[39mkwargs)\n\u001b[1;32m    899\u001b[0m \u001b[38;5;28;01melif\u001b[39;00m engine \u001b[38;5;129;01mis\u001b[39;00m \u001b[38;5;28;01mNone\u001b[39;00m:\n\u001b[0;32m--> 900\u001b[0m     \u001b[38;5;28;01mraise\u001b[39;00m \u001b[38;5;167;01mRuntimeError\u001b[39;00m(\n\u001b[1;32m    901\u001b[0m         \u001b[38;5;124m\"\u001b[39m\u001b[38;5;124mNo visualization engine detected, please install graphviz or ipycytoscape\u001b[39m\u001b[38;5;124m\"\u001b[39m\n\u001b[1;32m    902\u001b[0m     )\n\u001b[1;32m    903\u001b[0m \u001b[38;5;28;01melse\u001b[39;00m:\n\u001b[1;32m    904\u001b[0m     \u001b[38;5;28;01mraise\u001b[39;00m \u001b[38;5;167;01mValueError\u001b[39;00m(\u001b[38;5;124mf\u001b[39m\u001b[38;5;124m\"\u001b[39m\u001b[38;5;124mVisualization engine \u001b[39m\u001b[38;5;132;01m{\u001b[39;00mengine\u001b[38;5;132;01m}\u001b[39;00m\u001b[38;5;124m not recognized\u001b[39m\u001b[38;5;124m\"\u001b[39m)\n",
      "\u001b[0;31mRuntimeError\u001b[0m: No visualization engine detected, please install graphviz or ipycytoscape"
     ]
    }
   ],
   "source": [
    "lazy_compute = z_plane_1.mean(axis=0)\n",
    "lazy_compute.visualize()"
   ]
  },
  {
   "cell_type": "code",
   "execution_count": 21,
   "id": "15915a9e19a9caee",
   "metadata": {
    "ExecuteTime": {
     "end_time": "2024-07-24T20:22:46.880166Z",
     "start_time": "2024-07-24T20:22:46.495077Z"
    }
   },
   "outputs": [
    {
     "ename": "",
     "evalue": "",
     "output_type": "error",
     "traceback": [
      "\u001b[1;31mThe Kernel crashed while executing code in the current cell or a previous cell. \n",
      "\u001b[1;31mPlease review the code in the cell(s) to identify a possible cause of the failure. \n",
      "\u001b[1;31mClick <a href='https://aka.ms/vscodeJupyterKernelCrash'>here</a> for more info. \n",
      "\u001b[1;31mView Jupyter <a href='command:jupyter.viewOutput'>log</a> for further details."
     ]
    }
   ],
   "source": [
    "fig, ax = plt.subplots(nrows=1, ncols=2)\n",
    "ax[0].imshow(z_plane_1[0,:,:], cmap='gray')\n",
    "ax[0].set_title('First frame')\n",
    "ax[0].axis('off')\n",
    "ax[1].imshow(z_plane_1.mean(axis=0), cmap='gray')\n",
    "ax[1].set_title('Mean image')\n",
    "ax[1].axis('off')\n",
    "plt.show(fig)"
   ]
  },
  {
   "cell_type": "code",
   "execution_count": 40,
   "id": "173ab185",
   "metadata": {},
   "outputs": [
    {
     "data": {
      "text/plain": [
       "[('z_plane_1', '8.8e-05 Mb'),\n",
       " ('np', '7.2e-05 Mb'),\n",
       " ('pd', '7.2e-05 Mb'),\n",
       " ('plt', '7.2e-05 Mb'),\n",
       " ('get_ipython', '6.4e-05 Mb'),\n",
       " ('x', '5.6e-05 Mb'),\n",
       " ('ax0', '4.8e-05 Mb'),\n",
       " ('ax1', '4.8e-05 Mb'),\n",
       " ('ax2', '4.8e-05 Mb'),\n",
       " ('ax3', '4.8e-05 Mb'),\n",
       " ('data', '4.8e-05 Mb'),\n",
       " ('exit', '4.8e-05 Mb'),\n",
       " ('fig', '4.8e-05 Mb'),\n",
       " ('quit', '4.8e-05 Mb'),\n",
       " ('store', '4.8e-05 Mb'),\n",
       " ('z', '4.8e-05 Mb'),\n",
       " ('df', '0.002547 Mb'),\n",
       " ('ZarrStore', '0.001704 Mb'),\n",
       " ('ZarrTiffStore', '0.001704 Mb'),\n",
       " ('Out', '0.001168 Mb'),\n",
       " ('Path', '0.000936 Mb'),\n",
       " ('In', '0.000472 Mb'),\n",
       " ('variables', '0.000312 Mb'),\n",
       " ('variables_sorted', '0.000296 Mb'),\n",
       " ('display_variable_sizes', '0.00016 Mb'),\n",
       " ('get_size_of_objects', '0.00016 Mb'),\n",
       " ('open', '0.00016 Mb'),\n",
       " ('read_scan', '0.00016 Mb'),\n",
       " ('datapath', '0.000104 Mb'),\n",
       " ('ipython_vars', '0.000104 Mb')]"
      ]
     },
     "execution_count": 40,
     "metadata": {},
     "output_type": "execute_result"
    }
   ],
   "source": [
    "sorted([(x, f'{(sys.getsizeof(globals().get(x)) / 1e6)} Mb'  ) for x in dir() if not x.startswith('_') and x not in sys.modules], key=lambda x: x[1], reverse=True)"
   ]
  },
  {
   "cell_type": "code",
   "execution_count": 41,
   "id": "5a6644a5",
   "metadata": {},
   "outputs": [],
   "source": [
    "savepath = Path(\"./save/\")\n",
    "savepath.mkdir()"
   ]
  },
  {
   "cell_type": "code",
   "execution_count": 43,
   "id": "876cb42e",
   "metadata": {},
   "outputs": [],
   "source": [
    "data_sample = zarr.empty_like(z_plane_1)"
   ]
  },
  {
   "cell_type": "code",
   "execution_count": 42,
   "id": "40acc7ce",
   "metadata": {},
   "outputs": [],
   "source": [
    "store = zarr.DirectoryStore(savepath / 'data/session.zarr')\n",
    "root = zarr.group(store=store, overwrite=True)  \n",
    "foo = root.create_group('plane_1')  "
   ]
  },
  {
   "cell_type": "code",
   "execution_count": null,
   "id": "301ae443",
   "metadata": {},
   "outputs": [],
   "source": []
  },
  {
   "cell_type": "code",
   "execution_count": null,
   "id": "544f928b",
   "metadata": {},
   "outputs": [],
   "source": [
    "test = zarr.DirectoryStore(savepath / 'data.zarr')\n",
    "zarr.Direct"
   ]
  }
 ],
 "metadata": {
  "kernelspec": {
   "display_name": "Python 3",
   "language": "python",
   "name": "python3"
  },
  "language_info": {
   "codemirror_mode": {
    "name": "ipython",
    "version": 3
   },
   "file_extension": ".py",
   "mimetype": "text/x-python",
   "name": "python",
   "nbconvert_exporter": "python",
   "pygments_lexer": "ipython3",
   "version": "3.11.9"
  }
 },
 "nbformat": 4,
 "nbformat_minor": 5
}
