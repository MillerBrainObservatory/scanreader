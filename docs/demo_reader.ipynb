{
 "cells": [
  {
   "metadata": {},
   "cell_type": "markdown",
   "source": [
    "# Demo: scanreader\n",
    "\n",
    "Examples of scanreader usage from a [jupyter notebook](https://jupyter.org/) and from the commmand line.\n",
    "\n",
    "## Libraries:\n",
    "\n",
    "- [napari](https://napari.org/stable/) for displaying images\n",
    "- [zarr](https://zarr.readthedocs.io/en/stable/) and [dask](https://www.dask.org/) for lazy-loading operations"
   ],
   "id": "bcd70aeb43a383b0"
  },
  {
   "metadata": {
    "ExecuteTime": {
     "end_time": "2024-07-24T19:32:39.726651Z",
     "start_time": "2024-07-24T19:32:39.256595Z"
    }
   },
   "cell_type": "code",
   "source": [
    "### Imports\n",
    "from pathlib import Path\n",
    "from tifffile import ZarrTiffStore, ZarrStore\n",
    "import dask\n",
    "import scanreader\n",
    "from dask.distributed import LocalCluster\n",
    "client = LocalCluster().get_client()\n",
    "%load_ext autoreload\n",
    "%autoreload 2"
   ],
   "id": "369d671ee4cb5701",
   "outputs": [
    {
     "name": "stderr",
     "output_type": "stream",
     "text": [
      "/home/rbo/miniconda3/envs/napari-env/lib/python3.9/site-packages/distributed/node.py:182: UserWarning: Port 8787 is already in use.\n",
      "Perhaps you already have a cluster running?\n",
      "Hosting the HTTP server on port 46831 instead\n",
      "  warnings.warn(\n"
     ]
    },
    {
     "name": "stdout",
     "output_type": "stream",
     "text": [
      "The autoreload extension is already loaded. To reload it, use:\n",
      "  %reload_ext autoreload\n"
     ]
    }
   ],
   "execution_count": 7
  },
  {
   "metadata": {},
   "cell_type": "markdown",
   "source": "## Data path setup",
   "id": "2f02216ad35fb1b2"
  },
  {
   "metadata": {
    "ExecuteTime": {
     "end_time": "2024-07-24T19:30:54.687721Z",
     "start_time": "2024-07-24T19:30:53.521877Z"
    }
   },
   "cell_type": "code",
   "source": [
    "datapath = Path().home() / 'caiman_data'\n",
    "data = scanreader.read_scan(datapath)\n",
    "dask_arrays = data[:]\n",
    "dask_arrays"
   ],
   "id": "4471f1fdb9246ffd",
   "outputs": [
    {
     "data": {
      "text/plain": [
       "dask.array<concatenate, shape=(1730, 30, 600, 576), dtype=int16, chunksize=(1730, 30, 600, 144), chunktype=numpy.ndarray>"
      ],
      "text/html": [
       "<table>\n",
       "    <tr>\n",
       "        <td>\n",
       "            <table style=\"border-collapse: collapse;\">\n",
       "                <thead>\n",
       "                    <tr>\n",
       "                        <td> </td>\n",
       "                        <th> Array </th>\n",
       "                        <th> Chunk </th>\n",
       "                    </tr>\n",
       "                </thead>\n",
       "                <tbody>\n",
       "                    \n",
       "                    <tr>\n",
       "                        <th> Bytes </th>\n",
       "                        <td> 33.41 GiB </td>\n",
       "                        <td> 8.35 GiB </td>\n",
       "                    </tr>\n",
       "                    \n",
       "                    <tr>\n",
       "                        <th> Shape </th>\n",
       "                        <td> (1730, 30, 600, 576) </td>\n",
       "                        <td> (1730, 30, 600, 144) </td>\n",
       "                    </tr>\n",
       "                    <tr>\n",
       "                        <th> Dask graph </th>\n",
       "                        <td colspan=\"2\"> 4 chunks in 13 graph layers </td>\n",
       "                    </tr>\n",
       "                    <tr>\n",
       "                        <th> Data type </th>\n",
       "                        <td colspan=\"2\"> int16 numpy.ndarray </td>\n",
       "                    </tr>\n",
       "                </tbody>\n",
       "            </table>\n",
       "        </td>\n",
       "        <td>\n",
       "        <svg width=\"490\" height=\"110\" style=\"stroke:rgb(0,0,0);stroke-width:1\" >\n",
       "\n",
       "  <!-- Horizontal lines -->\n",
       "  <line x1=\"0\" y1=\"0\" x2=\"120\" y2=\"0\" style=\"stroke-width:2\" />\n",
       "  <line x1=\"0\" y1=\"25\" x2=\"120\" y2=\"25\" style=\"stroke-width:2\" />\n",
       "\n",
       "  <!-- Vertical lines -->\n",
       "  <line x1=\"0\" y1=\"0\" x2=\"0\" y2=\"25\" style=\"stroke-width:2\" />\n",
       "  <line x1=\"120\" y1=\"0\" x2=\"120\" y2=\"25\" style=\"stroke-width:2\" />\n",
       "\n",
       "  <!-- Colored Rectangle -->\n",
       "  <polygon points=\"0.0,0.0 120.0,0.0 120.0,25.412616514582485 0.0,25.412616514582485\" style=\"fill:#ECB172A0;stroke-width:0\"/>\n",
       "\n",
       "  <!-- Text -->\n",
       "  <text x=\"60.000000\" y=\"45.412617\" font-size=\"1.0rem\" font-weight=\"100\" text-anchor=\"middle\" >1730</text>\n",
       "  <text x=\"140.000000\" y=\"12.706308\" font-size=\"1.0rem\" font-weight=\"100\" text-anchor=\"middle\" transform=\"rotate(0,140.000000,12.706308)\">1</text>\n",
       "\n",
       "\n",
       "  <!-- Horizontal lines -->\n",
       "  <line x1=\"190\" y1=\"0\" x2=\"206\" y2=\"16\" style=\"stroke-width:2\" />\n",
       "  <line x1=\"190\" y1=\"44\" x2=\"206\" y2=\"60\" style=\"stroke-width:2\" />\n",
       "\n",
       "  <!-- Vertical lines -->\n",
       "  <line x1=\"190\" y1=\"0\" x2=\"190\" y2=\"44\" style=\"stroke-width:2\" />\n",
       "  <line x1=\"206\" y1=\"16\" x2=\"206\" y2=\"60\" style=\"stroke-width:2\" />\n",
       "\n",
       "  <!-- Colored Rectangle -->\n",
       "  <polygon points=\"190.0,0.0 206.61115728092685,16.611157280926843 206.61115728092685,60.619383870193346 190.0,44.0082265892665\" style=\"fill:#ECB172A0;stroke-width:0\"/>\n",
       "\n",
       "  <!-- Horizontal lines -->\n",
       "  <line x1=\"190\" y1=\"0\" x2=\"233\" y2=\"0\" style=\"stroke-width:2\" />\n",
       "  <line x1=\"206\" y1=\"16\" x2=\"250\" y2=\"16\" style=\"stroke-width:2\" />\n",
       "\n",
       "  <!-- Vertical lines -->\n",
       "  <line x1=\"190\" y1=\"0\" x2=\"206\" y2=\"16\" style=\"stroke-width:2\" />\n",
       "  <line x1=\"200\" y1=\"0\" x2=\"217\" y2=\"16\" />\n",
       "  <line x1=\"211\" y1=\"0\" x2=\"228\" y2=\"16\" />\n",
       "  <line x1=\"222\" y1=\"0\" x2=\"239\" y2=\"16\" />\n",
       "  <line x1=\"233\" y1=\"0\" x2=\"250\" y2=\"16\" style=\"stroke-width:2\" />\n",
       "\n",
       "  <!-- Colored Rectangle -->\n",
       "  <polygon points=\"190.0,0.0 233.8822164992411,0.0 250.49337378016796,16.611157280926843 206.61115728092685,16.611157280926843\" style=\"fill:#ECB172A0;stroke-width:0\"/>\n",
       "\n",
       "  <!-- Horizontal lines -->\n",
       "  <line x1=\"206\" y1=\"16\" x2=\"250\" y2=\"16\" style=\"stroke-width:2\" />\n",
       "  <line x1=\"206\" y1=\"60\" x2=\"250\" y2=\"60\" style=\"stroke-width:2\" />\n",
       "\n",
       "  <!-- Vertical lines -->\n",
       "  <line x1=\"206\" y1=\"16\" x2=\"206\" y2=\"60\" style=\"stroke-width:2\" />\n",
       "  <line x1=\"217\" y1=\"16\" x2=\"217\" y2=\"60\" />\n",
       "  <line x1=\"228\" y1=\"16\" x2=\"228\" y2=\"60\" />\n",
       "  <line x1=\"239\" y1=\"16\" x2=\"239\" y2=\"60\" />\n",
       "  <line x1=\"250\" y1=\"16\" x2=\"250\" y2=\"60\" style=\"stroke-width:2\" />\n",
       "\n",
       "  <!-- Colored Rectangle -->\n",
       "  <polygon points=\"206.61115728092685,16.611157280926843 250.49337378016796,16.611157280926843 250.49337378016796,60.619383870193346 206.61115728092685,60.619383870193346\" style=\"fill:#ECB172A0;stroke-width:0\"/>\n",
       "\n",
       "  <!-- Text -->\n",
       "  <text x=\"228.552266\" y=\"80.619384\" font-size=\"1.0rem\" font-weight=\"100\" text-anchor=\"middle\" >576</text>\n",
       "  <text x=\"270.493374\" y=\"38.615271\" font-size=\"1.0rem\" font-weight=\"100\" text-anchor=\"middle\" transform=\"rotate(-90,270.493374,38.615271)\">600</text>\n",
       "  <text x=\"188.305579\" y=\"72.313805\" font-size=\"1.0rem\" font-weight=\"100\" text-anchor=\"middle\" transform=\"rotate(45,188.305579,72.313805)\">30</text>\n",
       "</svg>\n",
       "        </td>\n",
       "    </tr>\n",
       "</table>"
      ]
     },
     "execution_count": 4,
     "metadata": {},
     "output_type": "execute_result"
    }
   ],
   "execution_count": 4
  },
  {
   "metadata": {
    "ExecuteTime": {
     "end_time": "2024-07-24T19:32:49.753494Z",
     "start_time": "2024-07-24T19:32:49.719553Z"
    }
   },
   "cell_type": "code",
   "source": "dask_arrays.visualize()",
   "id": "8f17f8b8693adfe0",
   "outputs": [
    {
     "ename": "RuntimeError",
     "evalue": "No visualization engine detected, please install graphviz or ipycytoscape",
     "output_type": "error",
     "traceback": [
      "\u001B[0;31m---------------------------------------------------------------------------\u001B[0m",
      "\u001B[0;31mRuntimeError\u001B[0m                              Traceback (most recent call last)",
      "Cell \u001B[0;32mIn[8], line 1\u001B[0m\n\u001B[0;32m----> 1\u001B[0m \u001B[43mdask_arrays\u001B[49m\u001B[38;5;241;43m.\u001B[39;49m\u001B[43mvisualize\u001B[49m\u001B[43m(\u001B[49m\u001B[43m)\u001B[49m\n",
      "File \u001B[0;32m~/miniconda3/envs/napari-env/lib/python3.9/site-packages/dask/base.py:301\u001B[0m, in \u001B[0;36mDaskMethodsMixin.visualize\u001B[0;34m(self, filename, format, optimize_graph, **kwargs)\u001B[0m\n\u001B[1;32m    257\u001B[0m \u001B[38;5;28;01mdef\u001B[39;00m \u001B[38;5;21mvisualize\u001B[39m(\u001B[38;5;28mself\u001B[39m, filename\u001B[38;5;241m=\u001B[39m\u001B[38;5;124m\"\u001B[39m\u001B[38;5;124mmydask\u001B[39m\u001B[38;5;124m\"\u001B[39m, \u001B[38;5;28mformat\u001B[39m\u001B[38;5;241m=\u001B[39m\u001B[38;5;28;01mNone\u001B[39;00m, optimize_graph\u001B[38;5;241m=\u001B[39m\u001B[38;5;28;01mFalse\u001B[39;00m, \u001B[38;5;241m*\u001B[39m\u001B[38;5;241m*\u001B[39mkwargs):\n\u001B[1;32m    258\u001B[0m \u001B[38;5;250m    \u001B[39m\u001B[38;5;124;03m\"\"\"Render the computation of this object's task graph using graphviz.\u001B[39;00m\n\u001B[1;32m    259\u001B[0m \n\u001B[1;32m    260\u001B[0m \u001B[38;5;124;03m    Requires ``graphviz`` to be installed.\u001B[39;00m\n\u001B[0;32m   (...)\u001B[0m\n\u001B[1;32m    299\u001B[0m \u001B[38;5;124;03m    https://docs.dask.org/en/latest/optimize.html\u001B[39;00m\n\u001B[1;32m    300\u001B[0m \u001B[38;5;124;03m    \"\"\"\u001B[39;00m\n\u001B[0;32m--> 301\u001B[0m     \u001B[38;5;28;01mreturn\u001B[39;00m \u001B[43mvisualize\u001B[49m\u001B[43m(\u001B[49m\n\u001B[1;32m    302\u001B[0m \u001B[43m        \u001B[49m\u001B[38;5;28;43mself\u001B[39;49m\u001B[43m,\u001B[49m\n\u001B[1;32m    303\u001B[0m \u001B[43m        \u001B[49m\u001B[43mfilename\u001B[49m\u001B[38;5;241;43m=\u001B[39;49m\u001B[43mfilename\u001B[49m\u001B[43m,\u001B[49m\n\u001B[1;32m    304\u001B[0m \u001B[43m        \u001B[49m\u001B[38;5;28;43mformat\u001B[39;49m\u001B[38;5;241;43m=\u001B[39;49m\u001B[38;5;28;43mformat\u001B[39;49m\u001B[43m,\u001B[49m\n\u001B[1;32m    305\u001B[0m \u001B[43m        \u001B[49m\u001B[43moptimize_graph\u001B[49m\u001B[38;5;241;43m=\u001B[39;49m\u001B[43moptimize_graph\u001B[49m\u001B[43m,\u001B[49m\n\u001B[1;32m    306\u001B[0m \u001B[43m        \u001B[49m\u001B[38;5;241;43m*\u001B[39;49m\u001B[38;5;241;43m*\u001B[39;49m\u001B[43mkwargs\u001B[49m\u001B[43m,\u001B[49m\n\u001B[1;32m    307\u001B[0m \u001B[43m    \u001B[49m\u001B[43m)\u001B[49m\n",
      "File \u001B[0;32m~/miniconda3/envs/napari-env/lib/python3.9/site-packages/dask/base.py:758\u001B[0m, in \u001B[0;36mvisualize\u001B[0;34m(filename, traverse, optimize_graph, maxval, engine, *args, **kwargs)\u001B[0m\n\u001B[1;32m    754\u001B[0m args, _ \u001B[38;5;241m=\u001B[39m unpack_collections(\u001B[38;5;241m*\u001B[39margs, traverse\u001B[38;5;241m=\u001B[39mtraverse)\n\u001B[1;32m    756\u001B[0m dsk \u001B[38;5;241m=\u001B[39m \u001B[38;5;28mdict\u001B[39m(collections_to_dsk(args, optimize_graph\u001B[38;5;241m=\u001B[39moptimize_graph))\n\u001B[0;32m--> 758\u001B[0m \u001B[38;5;28;01mreturn\u001B[39;00m \u001B[43mvisualize_dsk\u001B[49m\u001B[43m(\u001B[49m\n\u001B[1;32m    759\u001B[0m \u001B[43m    \u001B[49m\u001B[43mdsk\u001B[49m\u001B[38;5;241;43m=\u001B[39;49m\u001B[43mdsk\u001B[49m\u001B[43m,\u001B[49m\n\u001B[1;32m    760\u001B[0m \u001B[43m    \u001B[49m\u001B[43mfilename\u001B[49m\u001B[38;5;241;43m=\u001B[39;49m\u001B[43mfilename\u001B[49m\u001B[43m,\u001B[49m\n\u001B[1;32m    761\u001B[0m \u001B[43m    \u001B[49m\u001B[43mtraverse\u001B[49m\u001B[38;5;241;43m=\u001B[39;49m\u001B[43mtraverse\u001B[49m\u001B[43m,\u001B[49m\n\u001B[1;32m    762\u001B[0m \u001B[43m    \u001B[49m\u001B[43moptimize_graph\u001B[49m\u001B[38;5;241;43m=\u001B[39;49m\u001B[43moptimize_graph\u001B[49m\u001B[43m,\u001B[49m\n\u001B[1;32m    763\u001B[0m \u001B[43m    \u001B[49m\u001B[43mmaxval\u001B[49m\u001B[38;5;241;43m=\u001B[39;49m\u001B[43mmaxval\u001B[49m\u001B[43m,\u001B[49m\n\u001B[1;32m    764\u001B[0m \u001B[43m    \u001B[49m\u001B[43mengine\u001B[49m\u001B[38;5;241;43m=\u001B[39;49m\u001B[43mengine\u001B[49m\u001B[43m,\u001B[49m\n\u001B[1;32m    765\u001B[0m \u001B[43m    \u001B[49m\u001B[38;5;241;43m*\u001B[39;49m\u001B[38;5;241;43m*\u001B[39;49m\u001B[43mkwargs\u001B[49m\u001B[43m,\u001B[49m\n\u001B[1;32m    766\u001B[0m \u001B[43m\u001B[49m\u001B[43m)\u001B[49m\n",
      "File \u001B[0;32m~/miniconda3/envs/napari-env/lib/python3.9/site-packages/dask/base.py:899\u001B[0m, in \u001B[0;36mvisualize_dsk\u001B[0;34m(dsk, filename, traverse, optimize_graph, maxval, o, engine, limit, **kwargs)\u001B[0m\n\u001B[1;32m    897\u001B[0m     \u001B[38;5;28;01mreturn\u001B[39;00m cytoscape_graph(dsk, filename\u001B[38;5;241m=\u001B[39mfilename, \u001B[38;5;241m*\u001B[39m\u001B[38;5;241m*\u001B[39mkwargs)\n\u001B[1;32m    898\u001B[0m \u001B[38;5;28;01melif\u001B[39;00m engine \u001B[38;5;129;01mis\u001B[39;00m \u001B[38;5;28;01mNone\u001B[39;00m:\n\u001B[0;32m--> 899\u001B[0m     \u001B[38;5;28;01mraise\u001B[39;00m \u001B[38;5;167;01mRuntimeError\u001B[39;00m(\n\u001B[1;32m    900\u001B[0m         \u001B[38;5;124m\"\u001B[39m\u001B[38;5;124mNo visualization engine detected, please install graphviz or ipycytoscape\u001B[39m\u001B[38;5;124m\"\u001B[39m\n\u001B[1;32m    901\u001B[0m     )\n\u001B[1;32m    902\u001B[0m \u001B[38;5;28;01melse\u001B[39;00m:\n\u001B[1;32m    903\u001B[0m     \u001B[38;5;28;01mraise\u001B[39;00m \u001B[38;5;167;01mValueError\u001B[39;00m(\u001B[38;5;124mf\u001B[39m\u001B[38;5;124m\"\u001B[39m\u001B[38;5;124mVisualization engine \u001B[39m\u001B[38;5;132;01m{\u001B[39;00mengine\u001B[38;5;132;01m}\u001B[39;00m\u001B[38;5;124m not recognized\u001B[39m\u001B[38;5;124m\"\u001B[39m)\n",
      "\u001B[0;31mRuntimeError\u001B[0m: No visualization engine detected, please install graphviz or ipycytoscape"
     ]
    }
   ],
   "execution_count": 8
  },
  {
   "metadata": {
    "ExecuteTime": {
     "end_time": "2024-07-24T18:57:39.843084Z",
     "start_time": "2024-07-24T18:57:39.818482Z"
    }
   },
   "cell_type": "code",
   "source": [
    "results = []\n",
    "for z_p in range(0, data.num_channels):\n",
    "    \n",
    "    data = client.submit(scanreader.read_scan, datapath)\n",
    "    result = client.submit(process, data)\n",
    "    results.append(result)\n",
    "\n",
    "# Gather results back to local computer\n",
    "results = client.gather(results)"
   ],
   "id": "70dcb1c8091363b1",
   "outputs": [
    {
     "data": {
      "text/plain": [
       "dask.array<concatenate, shape=(1730, 30, 2400, 144), dtype=int16, chunksize=(1730, 30, 600, 144), chunktype=numpy.ndarray>"
      ],
      "text/html": [
       "<table>\n",
       "    <tr>\n",
       "        <td>\n",
       "            <table style=\"border-collapse: collapse;\">\n",
       "                <thead>\n",
       "                    <tr>\n",
       "                        <td> </td>\n",
       "                        <th> Array </th>\n",
       "                        <th> Chunk </th>\n",
       "                    </tr>\n",
       "                </thead>\n",
       "                <tbody>\n",
       "                    \n",
       "                    <tr>\n",
       "                        <th> Bytes </th>\n",
       "                        <td> 33.41 GiB </td>\n",
       "                        <td> 8.35 GiB </td>\n",
       "                    </tr>\n",
       "                    \n",
       "                    <tr>\n",
       "                        <th> Shape </th>\n",
       "                        <td> (1730, 30, 2400, 144) </td>\n",
       "                        <td> (1730, 30, 600, 144) </td>\n",
       "                    </tr>\n",
       "                    <tr>\n",
       "                        <th> Dask graph </th>\n",
       "                        <td colspan=\"2\"> 4 chunks in 13 graph layers </td>\n",
       "                    </tr>\n",
       "                    <tr>\n",
       "                        <th> Data type </th>\n",
       "                        <td colspan=\"2\"> int16 numpy.ndarray </td>\n",
       "                    </tr>\n",
       "                </tbody>\n",
       "            </table>\n",
       "        </td>\n",
       "        <td>\n",
       "        <svg width=\"413\" height=\"185\" style=\"stroke:rgb(0,0,0);stroke-width:1\" >\n",
       "\n",
       "  <!-- Horizontal lines -->\n",
       "  <line x1=\"0\" y1=\"0\" x2=\"86\" y2=\"0\" style=\"stroke-width:2\" />\n",
       "  <line x1=\"0\" y1=\"25\" x2=\"86\" y2=\"25\" style=\"stroke-width:2\" />\n",
       "\n",
       "  <!-- Vertical lines -->\n",
       "  <line x1=\"0\" y1=\"0\" x2=\"0\" y2=\"25\" style=\"stroke-width:2\" />\n",
       "  <line x1=\"86\" y1=\"0\" x2=\"86\" y2=\"25\" style=\"stroke-width:2\" />\n",
       "\n",
       "  <!-- Colored Rectangle -->\n",
       "  <polygon points=\"0.0,0.0 86.5,0.0 86.5,25.412616514582485 0.0,25.412616514582485\" style=\"fill:#ECB172A0;stroke-width:0\"/>\n",
       "\n",
       "  <!-- Text -->\n",
       "  <text x=\"43.250000\" y=\"45.412617\" font-size=\"1.0rem\" font-weight=\"100\" text-anchor=\"middle\" >1730</text>\n",
       "  <text x=\"106.500000\" y=\"12.706308\" font-size=\"1.0rem\" font-weight=\"100\" text-anchor=\"middle\" transform=\"rotate(0,106.500000,12.706308)\">1</text>\n",
       "\n",
       "\n",
       "  <!-- Horizontal lines -->\n",
       "  <line x1=\"156\" y1=\"0\" x2=\"171\" y2=\"15\" style=\"stroke-width:2\" />\n",
       "  <line x1=\"156\" y1=\"30\" x2=\"171\" y2=\"45\" />\n",
       "  <line x1=\"156\" y1=\"60\" x2=\"171\" y2=\"75\" />\n",
       "  <line x1=\"156\" y1=\"90\" x2=\"171\" y2=\"105\" />\n",
       "  <line x1=\"156\" y1=\"120\" x2=\"171\" y2=\"135\" style=\"stroke-width:2\" />\n",
       "\n",
       "  <!-- Vertical lines -->\n",
       "  <line x1=\"156\" y1=\"0\" x2=\"156\" y2=\"120\" style=\"stroke-width:2\" />\n",
       "  <line x1=\"171\" y1=\"15\" x2=\"171\" y2=\"135\" style=\"stroke-width:2\" />\n",
       "\n",
       "  <!-- Colored Rectangle -->\n",
       "  <polygon points=\"156.0,0.0 171.59572579981145,15.595725799811456 171.59572579981145,135.59572579981145 156.0,120.0\" style=\"fill:#ECB172A0;stroke-width:0\"/>\n",
       "\n",
       "  <!-- Horizontal lines -->\n",
       "  <line x1=\"156\" y1=\"0\" x2=\"191\" y2=\"0\" style=\"stroke-width:2\" />\n",
       "  <line x1=\"171\" y1=\"15\" x2=\"207\" y2=\"15\" style=\"stroke-width:2\" />\n",
       "\n",
       "  <!-- Vertical lines -->\n",
       "  <line x1=\"156\" y1=\"0\" x2=\"171\" y2=\"15\" style=\"stroke-width:2\" />\n",
       "  <line x1=\"191\" y1=\"0\" x2=\"207\" y2=\"15\" style=\"stroke-width:2\" />\n",
       "\n",
       "  <!-- Colored Rectangle -->\n",
       "  <polygon points=\"156.0,0.0 191.61261971641667,0.0 207.20834551622812,15.595725799811456 171.59572579981145,15.595725799811456\" style=\"fill:#ECB172A0;stroke-width:0\"/>\n",
       "\n",
       "  <!-- Horizontal lines -->\n",
       "  <line x1=\"171\" y1=\"15\" x2=\"207\" y2=\"15\" style=\"stroke-width:2\" />\n",
       "  <line x1=\"171\" y1=\"45\" x2=\"207\" y2=\"45\" />\n",
       "  <line x1=\"171\" y1=\"75\" x2=\"207\" y2=\"75\" />\n",
       "  <line x1=\"171\" y1=\"105\" x2=\"207\" y2=\"105\" />\n",
       "  <line x1=\"171\" y1=\"135\" x2=\"207\" y2=\"135\" style=\"stroke-width:2\" />\n",
       "\n",
       "  <!-- Vertical lines -->\n",
       "  <line x1=\"171\" y1=\"15\" x2=\"171\" y2=\"135\" style=\"stroke-width:2\" />\n",
       "  <line x1=\"207\" y1=\"15\" x2=\"207\" y2=\"135\" style=\"stroke-width:2\" />\n",
       "\n",
       "  <!-- Colored Rectangle -->\n",
       "  <polygon points=\"171.59572579981145,15.595725799811456 207.20834551622812,15.595725799811456 207.20834551622812,135.59572579981145 171.59572579981145,135.59572579981145\" style=\"fill:#ECB172A0;stroke-width:0\"/>\n",
       "\n",
       "  <!-- Text -->\n",
       "  <text x=\"189.402036\" y=\"155.595726\" font-size=\"1.0rem\" font-weight=\"100\" text-anchor=\"middle\" >144</text>\n",
       "  <text x=\"227.208346\" y=\"75.595726\" font-size=\"1.0rem\" font-weight=\"100\" text-anchor=\"middle\" transform=\"rotate(-90,227.208346,75.595726)\">2400</text>\n",
       "  <text x=\"153.797863\" y=\"147.797863\" font-size=\"1.0rem\" font-weight=\"100\" text-anchor=\"middle\" transform=\"rotate(45,153.797863,147.797863)\">30</text>\n",
       "</svg>\n",
       "        </td>\n",
       "    </tr>\n",
       "</table>"
      ]
     },
     "execution_count": 12,
     "metadata": {},
     "output_type": "execute_result"
    }
   ],
   "execution_count": 12
  },
  {
   "metadata": {},
   "cell_type": "code",
   "outputs": [],
   "execution_count": null,
   "source": "arr",
   "id": "743a14e938da5bbf"
  }
 ],
 "metadata": {
  "kernelspec": {
   "display_name": "Python 3",
   "language": "python",
   "name": "python3"
  },
  "language_info": {
   "codemirror_mode": {
    "name": "ipython",
    "version": 2
   },
   "file_extension": ".py",
   "mimetype": "text/x-python",
   "name": "python",
   "nbconvert_exporter": "python",
   "pygments_lexer": "ipython2",
   "version": "2.7.6"
  }
 },
 "nbformat": 4,
 "nbformat_minor": 5
}
