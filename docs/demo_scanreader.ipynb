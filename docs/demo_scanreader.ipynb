{
 "cells": [
  {
   "cell_type": "markdown",
   "id": "e5771354",
   "metadata": {},
   "source": [
    "# Demo: data extraction with scanreader\n",
    "\n",
    "Python TIFF Stack Reader for Light-Beads-Microscopy scans (including multiROI).\n",
    "\n",
    "We treat a scan as a collection of recording fields: rectangular planes at a given x, y, z position in the scan recorded in a number of channels during a preset amount of time. All fields have the same number of channels and number of frames."
   ]
  },
  {
   "cell_type": "markdown",
   "id": "608c9211",
   "metadata": {},
   "source": [
    "## Imports\n",
    "\n",
    "scanreader relies on numpy, tifffile and the dependencies that those projects include."
   ]
  },
  {
   "cell_type": "code",
   "execution_count": null,
   "id": "47259a13",
   "metadata": {},
   "outputs": [],
   "source": [
    "import numpy as np\n",
    "from pathlib import Path\n",
    "import scanreader as sr"
   ]
  },
  {
   "cell_type": "markdown",
   "id": "0f0a2c9e",
   "metadata": {},
   "source": [
    "## Intialize scanreader object through read_scan()\n",
    "\n",
    "Scan objects returned by calling [`read_scan()`] are iterable and indexable (as shown).\n",
    "Indexes can be integers, slice objects (:) or lists/tuples/arrays of integers.\n",
    "It should act like a numpy 5-d array---no boolean indexing, though."
   ]
  },
  {
   "cell_type": "code",
   "execution_count": null,
   "id": "b88a3499",
   "metadata": {},
   "outputs": [],
   "source": [
    "file = [x for x in Path('/data2/fpo/data/').glob(\"*.tif*\")][0]\n",
    "\n",
    "scan = sr.read_scan(str(file), join_contiguous=True, lbm=True)\n",
    "data = scan[0]"
   ]
  },
  {
   "cell_type": "markdown",
   "id": "66e3d649",
   "metadata": {},
   "source": [
    "### Iterate through each field of the scan"
   ]
  },
  {
   "cell_type": "code",
   "execution_count": null,
   "id": "12dedac2",
   "metadata": {},
   "outputs": [],
   "source": [
    "\n",
    "for field in scan:\n",
    "    # process field (4-d array: [y_center_coordinate, x_center_coordinate, channels, frames])\n",
    "    del field  # free memory before next iteration\n",
    "\n",
    "x = scan[:]  # 5-d array [fields, y_center_coordinate, x_center_coordinate, channel, frames]\n",
    "y = scan[:2, :, :, 0, -1000:]  # 5-d array: last 1000 frames of first 2 fields on the first channel\n",
    "z = scan[1]  # 4-d array: the second field (over all channels and time)\n",
    "\n",
    "scan = scanreader.read_scan('/data/my_scan_*.tif', dtype=np.float32, join_contiguous=True)"
   ]
  },
  {
   "cell_type": "markdown",
   "id": "37986904",
   "metadata": {},
   "source": [
    "## Inspect Results\n",
    "\n",
    "We can retrieve the dimensions of our image with the stored field_widths.\n",
    "We use holoviews as a container for our images, and bokeh for the plotting library."
   ]
  },
  {
   "cell_type": "code",
   "execution_count": 4,
   "id": "511bdd4c5d11d97f",
   "metadata": {},
   "outputs": [],
   "source": [
    "plot_width = scan.field_widths[0]\n",
    "plot_height = scan.field_heights[0] \n",
    "\n",
    "image1 = hv.Image(data[:,:,5,400]).opts(\n",
    "    width=400,\n",
    "    height=400,\n",
    "    title=\"Original Image\",\n",
    "    tools=['pan', 'wheel_zoom'],\n",
    "    cmap='gray',\n",
    ")\n",
    "\n",
    "layout = image1 \n",
    "bpl.show(hv.render(layout))"
   ]
  }
 ],
 "metadata": {
  "kernelspec": {
   "display_name": "Python 3 (ipykernel)",
   "language": "python",
   "name": "python3"
  },
  "language_info": {
   "codemirror_mode": {
    "name": "ipython",
    "version": 3
   },
   "file_extension": ".py",
   "mimetype": "text/x-python",
   "name": "python",
   "nbconvert_exporter": "python",
   "pygments_lexer": "ipython3",
   "version": "3.11.9"
  }
 },
 "nbformat": 4,
 "nbformat_minor": 5
}
